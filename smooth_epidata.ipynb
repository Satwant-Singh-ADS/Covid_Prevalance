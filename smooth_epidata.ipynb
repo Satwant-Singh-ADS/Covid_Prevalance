{
 "cells": [
  {
   "cell_type": "code",
   "execution_count": 45,
   "id": "67bb02b9",
   "metadata": {},
   "outputs": [],
   "source": [
    "import pandas as pd\n",
    "import numpy as np\n",
    "import math"
   ]
  },
  {
   "cell_type": "code",
   "execution_count": 4,
   "id": "787f6773",
   "metadata": {},
   "outputs": [],
   "source": [
    "data_4 = pd.DataFrame([[1,2,np.nan],[np.nan,4,5],[5,3,np.nan]])"
   ]
  },
  {
   "cell_type": "code",
   "execution_count": 49,
   "id": "4ce488e7",
   "metadata": {},
   "outputs": [],
   "source": [
    "smooth_factor = 0.7"
   ]
  },
  {
   "cell_type": "code",
   "execution_count": 5,
   "id": "6ba6c2ed",
   "metadata": {},
   "outputs": [
    {
     "data": {
      "text/html": [
       "<div>\n",
       "<style scoped>\n",
       "    .dataframe tbody tr th:only-of-type {\n",
       "        vertical-align: middle;\n",
       "    }\n",
       "\n",
       "    .dataframe tbody tr th {\n",
       "        vertical-align: top;\n",
       "    }\n",
       "\n",
       "    .dataframe thead th {\n",
       "        text-align: right;\n",
       "    }\n",
       "</style>\n",
       "<table border=\"1\" class=\"dataframe\">\n",
       "  <thead>\n",
       "    <tr style=\"text-align: right;\">\n",
       "      <th></th>\n",
       "      <th>0</th>\n",
       "      <th>1</th>\n",
       "      <th>2</th>\n",
       "    </tr>\n",
       "  </thead>\n",
       "  <tbody>\n",
       "    <tr>\n",
       "      <th>0</th>\n",
       "      <td>1.0</td>\n",
       "      <td>2</td>\n",
       "      <td>NaN</td>\n",
       "    </tr>\n",
       "    <tr>\n",
       "      <th>1</th>\n",
       "      <td>NaN</td>\n",
       "      <td>4</td>\n",
       "      <td>5.0</td>\n",
       "    </tr>\n",
       "    <tr>\n",
       "      <th>2</th>\n",
       "      <td>5.0</td>\n",
       "      <td>3</td>\n",
       "      <td>NaN</td>\n",
       "    </tr>\n",
       "  </tbody>\n",
       "</table>\n",
       "</div>"
      ],
      "text/plain": [
       "     0  1    2\n",
       "0  1.0  2  NaN\n",
       "1  NaN  4  5.0\n",
       "2  5.0  3  NaN"
      ]
     },
     "execution_count": 5,
     "metadata": {},
     "output_type": "execute_result"
    }
   ],
   "source": [
    "data_4"
   ]
  },
  {
   "cell_type": "code",
   "execution_count": null,
   "id": "d5354565",
   "metadata": {},
   "outputs": [],
   "source": [
    "# function [data_4_s] = smooth_epidata(data_4, smooth_factor, week_correction, week_smoothing)\n",
    "# %SMOOTH_EPIDATA removes outliers and smoothes\n",
    "\n",
    "# if nargin < 4\n",
    "#     week_smoothing = 1;\n",
    "# end\n",
    "\n",
    "# if nargin < 3\n",
    "#     week_correction = 1;\n",
    "# end\n",
    "# data_4 = fillmissing(data_4, 'linear', 2);\n",
    "\n",
    "# deldata = diff(data_4');\n",
    "\n",
    "if nargin<4:\n",
    "    week_smoothing=1\n",
    "if nargin<3:\n",
    "    week_correction = 1\n",
    "\n",
    "\n",
    "    "
   ]
  },
  {
   "cell_type": "code",
   "execution_count": 11,
   "id": "5324e196",
   "metadata": {},
   "outputs": [],
   "source": [
    "data_4 = data_4.interpolate(method='linear',limit=2,limit_direction='both')"
   ]
  },
  {
   "cell_type": "code",
   "execution_count": 14,
   "id": "776450ed",
   "metadata": {},
   "outputs": [
    {
     "data": {
      "text/html": [
       "<div>\n",
       "<style scoped>\n",
       "    .dataframe tbody tr th:only-of-type {\n",
       "        vertical-align: middle;\n",
       "    }\n",
       "\n",
       "    .dataframe tbody tr th {\n",
       "        vertical-align: top;\n",
       "    }\n",
       "\n",
       "    .dataframe thead th {\n",
       "        text-align: right;\n",
       "    }\n",
       "</style>\n",
       "<table border=\"1\" class=\"dataframe\">\n",
       "  <thead>\n",
       "    <tr style=\"text-align: right;\">\n",
       "      <th></th>\n",
       "      <th>0</th>\n",
       "      <th>1</th>\n",
       "      <th>2</th>\n",
       "    </tr>\n",
       "  </thead>\n",
       "  <tbody>\n",
       "    <tr>\n",
       "      <th>0</th>\n",
       "      <td>1.0</td>\n",
       "      <td>2</td>\n",
       "      <td>5.0</td>\n",
       "    </tr>\n",
       "    <tr>\n",
       "      <th>1</th>\n",
       "      <td>3.0</td>\n",
       "      <td>4</td>\n",
       "      <td>5.0</td>\n",
       "    </tr>\n",
       "    <tr>\n",
       "      <th>2</th>\n",
       "      <td>5.0</td>\n",
       "      <td>3</td>\n",
       "      <td>5.0</td>\n",
       "    </tr>\n",
       "  </tbody>\n",
       "</table>\n",
       "</div>"
      ],
      "text/plain": [
       "     0  1    2\n",
       "0  1.0  2  5.0\n",
       "1  3.0  4  5.0\n",
       "2  5.0  3  5.0"
      ]
     },
     "execution_count": 14,
     "metadata": {},
     "output_type": "execute_result"
    }
   ],
   "source": [
    "data_4"
   ]
  },
  {
   "cell_type": "code",
   "execution_count": 16,
   "id": "1753bb1e",
   "metadata": {},
   "outputs": [],
   "source": [
    "deldata = data_4.diff()[1:]"
   ]
  },
  {
   "cell_type": "code",
   "execution_count": 17,
   "id": "4b53a7ed",
   "metadata": {},
   "outputs": [],
   "source": [
    "data_4_s = data_4.copy()"
   ]
  },
  {
   "cell_type": "code",
   "execution_count": 19,
   "id": "41e4f523",
   "metadata": {},
   "outputs": [],
   "source": [
    "# maxt = size(data_4, 2);\n",
    "maxt = data_4.shape[1]"
   ]
  },
  {
   "cell_type": "code",
   "execution_count": 47,
   "id": "07c6b034",
   "metadata": {},
   "outputs": [],
   "source": [
    "date_map = [math.ceil((w-(maxt-1)%7)/7) for w in list(range(1,maxt))]"
   ]
  },
  {
   "cell_type": "code",
   "execution_count": 52,
   "id": "9f358dd9",
   "metadata": {},
   "outputs": [
    {
     "name": "stdout",
     "output_type": "stream",
     "text": [
      "OK\n"
     ]
    }
   ],
   "source": [
    "if type(smooth_factor) == int or type(smooth_factor) == float:\n",
    "    print(\"OK\")\n",
    "    cleandel = deldata\n",
    "    "
   ]
  },
  {
   "cell_type": "code",
   "execution_count": 53,
   "id": "808f1bb9",
   "metadata": {},
   "outputs": [
    {
     "data": {
      "text/html": [
       "<div>\n",
       "<style scoped>\n",
       "    .dataframe tbody tr th:only-of-type {\n",
       "        vertical-align: middle;\n",
       "    }\n",
       "\n",
       "    .dataframe tbody tr th {\n",
       "        vertical-align: top;\n",
       "    }\n",
       "\n",
       "    .dataframe thead th {\n",
       "        text-align: right;\n",
       "    }\n",
       "</style>\n",
       "<table border=\"1\" class=\"dataframe\">\n",
       "  <thead>\n",
       "    <tr style=\"text-align: right;\">\n",
       "      <th></th>\n",
       "      <th>0</th>\n",
       "      <th>1</th>\n",
       "      <th>2</th>\n",
       "    </tr>\n",
       "  </thead>\n",
       "  <tbody>\n",
       "    <tr>\n",
       "      <th>1</th>\n",
       "      <td>2.0</td>\n",
       "      <td>2.0</td>\n",
       "      <td>0.0</td>\n",
       "    </tr>\n",
       "    <tr>\n",
       "      <th>2</th>\n",
       "      <td>2.0</td>\n",
       "      <td>-1.0</td>\n",
       "      <td>0.0</td>\n",
       "    </tr>\n",
       "  </tbody>\n",
       "</table>\n",
       "</div>"
      ],
      "text/plain": [
       "     0    1    2\n",
       "1  2.0  2.0  0.0\n",
       "2  2.0 -1.0  0.0"
      ]
     },
     "execution_count": 53,
     "metadata": {},
     "output_type": "execute_result"
    }
   ],
   "source": [
    "cleandel"
   ]
  },
  {
   "cell_type": "code",
   "execution_count": null,
   "id": "7032bc7e",
   "metadata": {},
   "outputs": [],
   "source": []
  },
  {
   "cell_type": "code",
   "execution_count": null,
   "id": "eb6b913f",
   "metadata": {},
   "outputs": [],
   "source": []
  }
 ],
 "metadata": {
  "kernelspec": {
   "display_name": "Python 3 (ipykernel)",
   "language": "python",
   "name": "python3"
  },
  "language_info": {
   "codemirror_mode": {
    "name": "ipython",
    "version": 3
   },
   "file_extension": ".py",
   "mimetype": "text/x-python",
   "name": "python",
   "nbconvert_exporter": "python",
   "pygments_lexer": "ipython3",
   "version": "3.10.8"
  }
 },
 "nbformat": 4,
 "nbformat_minor": 5
}
