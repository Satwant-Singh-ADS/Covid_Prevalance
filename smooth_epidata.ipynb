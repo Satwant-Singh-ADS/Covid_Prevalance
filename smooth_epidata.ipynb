{
 "cells": [
  {
   "cell_type": "code",
   "execution_count": 1,
   "id": "9fd83e6d",
   "metadata": {},
   "outputs": [],
   "source": [
    "import pandas as pd\n",
    "import numpy as np"
   ]
  },
  {
   "cell_type": "code",
   "execution_count": 4,
   "id": "366e9c6d",
   "metadata": {},
   "outputs": [],
   "source": [
    "data_4 = pd.DataFrame([[1,2,np.nan],[np.nan,4,5],[5,3,np.nan]])"
   ]
  },
  {
   "cell_type": "code",
   "execution_count": 5,
   "id": "76ec6900",
   "metadata": {},
   "outputs": [
    {
     "data": {
      "text/html": [
       "<div>\n",
       "<style scoped>\n",
       "    .dataframe tbody tr th:only-of-type {\n",
       "        vertical-align: middle;\n",
       "    }\n",
       "\n",
       "    .dataframe tbody tr th {\n",
       "        vertical-align: top;\n",
       "    }\n",
       "\n",
       "    .dataframe thead th {\n",
       "        text-align: right;\n",
       "    }\n",
       "</style>\n",
       "<table border=\"1\" class=\"dataframe\">\n",
       "  <thead>\n",
       "    <tr style=\"text-align: right;\">\n",
       "      <th></th>\n",
       "      <th>0</th>\n",
       "      <th>1</th>\n",
       "      <th>2</th>\n",
       "    </tr>\n",
       "  </thead>\n",
       "  <tbody>\n",
       "    <tr>\n",
       "      <th>0</th>\n",
       "      <td>1.0</td>\n",
       "      <td>2</td>\n",
       "      <td>NaN</td>\n",
       "    </tr>\n",
       "    <tr>\n",
       "      <th>1</th>\n",
       "      <td>NaN</td>\n",
       "      <td>4</td>\n",
       "      <td>5.0</td>\n",
       "    </tr>\n",
       "    <tr>\n",
       "      <th>2</th>\n",
       "      <td>5.0</td>\n",
       "      <td>3</td>\n",
       "      <td>NaN</td>\n",
       "    </tr>\n",
       "  </tbody>\n",
       "</table>\n",
       "</div>"
      ],
      "text/plain": [
       "     0  1    2\n",
       "0  1.0  2  NaN\n",
       "1  NaN  4  5.0\n",
       "2  5.0  3  NaN"
      ]
     },
     "execution_count": 5,
     "metadata": {},
     "output_type": "execute_result"
    }
   ],
   "source": [
    "data_4"
   ]
  },
  {
   "cell_type": "code",
   "execution_count": null,
   "id": "161dbaa0",
   "metadata": {},
   "outputs": [],
   "source": [
    "# function [data_4_s] = smooth_epidata(data_4, smooth_factor, week_correction, week_smoothing)\n",
    "# %SMOOTH_EPIDATA removes outliers and smoothes\n",
    "\n",
    "# if nargin < 4\n",
    "#     week_smoothing = 1;\n",
    "# end\n",
    "\n",
    "# if nargin < 3\n",
    "#     week_correction = 1;\n",
    "# end\n",
    "# data_4 = fillmissing(data_4, 'linear', 2);\n",
    "\n",
    "# deldata = diff(data_4');\n",
    "\n",
    "if nargin<4:\n",
    "    week_smoothing=1\n",
    "if nargin<3:\n",
    "    week_correction = 1\n",
    "\n",
    "\n",
    "    "
   ]
  },
  {
   "cell_type": "code",
   "execution_count": 11,
   "id": "1320d433",
   "metadata": {},
   "outputs": [],
   "source": [
    "data_4 = data_4.interpolate(method='linear',limit=2,limit_direction='both')"
   ]
  },
  {
   "cell_type": "code",
   "execution_count": 14,
   "id": "31df35fc",
   "metadata": {},
   "outputs": [
    {
     "data": {
      "text/html": [
       "<div>\n",
       "<style scoped>\n",
       "    .dataframe tbody tr th:only-of-type {\n",
       "        vertical-align: middle;\n",
       "    }\n",
       "\n",
       "    .dataframe tbody tr th {\n",
       "        vertical-align: top;\n",
       "    }\n",
       "\n",
       "    .dataframe thead th {\n",
       "        text-align: right;\n",
       "    }\n",
       "</style>\n",
       "<table border=\"1\" class=\"dataframe\">\n",
       "  <thead>\n",
       "    <tr style=\"text-align: right;\">\n",
       "      <th></th>\n",
       "      <th>0</th>\n",
       "      <th>1</th>\n",
       "      <th>2</th>\n",
       "    </tr>\n",
       "  </thead>\n",
       "  <tbody>\n",
       "    <tr>\n",
       "      <th>0</th>\n",
       "      <td>1.0</td>\n",
       "      <td>2</td>\n",
       "      <td>5.0</td>\n",
       "    </tr>\n",
       "    <tr>\n",
       "      <th>1</th>\n",
       "      <td>3.0</td>\n",
       "      <td>4</td>\n",
       "      <td>5.0</td>\n",
       "    </tr>\n",
       "    <tr>\n",
       "      <th>2</th>\n",
       "      <td>5.0</td>\n",
       "      <td>3</td>\n",
       "      <td>5.0</td>\n",
       "    </tr>\n",
       "  </tbody>\n",
       "</table>\n",
       "</div>"
      ],
      "text/plain": [
       "     0  1    2\n",
       "0  1.0  2  5.0\n",
       "1  3.0  4  5.0\n",
       "2  5.0  3  5.0"
      ]
     },
     "execution_count": 14,
     "metadata": {},
     "output_type": "execute_result"
    }
   ],
   "source": [
    "data_4"
   ]
  },
  {
   "cell_type": "code",
   "execution_count": 16,
   "id": "eb3c6b43",
   "metadata": {},
   "outputs": [],
   "source": [
    "deldata = data_4.diff()[1:]"
   ]
  },
  {
   "cell_type": "code",
   "execution_count": 17,
   "id": "8482f015",
   "metadata": {},
   "outputs": [],
   "source": [
    "data_4_s = data_4.copy()"
   ]
  },
  {
   "cell_type": "code",
   "execution_count": null,
   "id": "5f50b810",
   "metadata": {},
   "outputs": [],
   "source": [
    "# maxt = size(data_4, 2);\n",
    "maxt = "
   ]
  }
 ],
 "metadata": {
  "kernelspec": {
   "display_name": "Python 3 (ipykernel)",
   "language": "python",
   "name": "python3"
  },
  "language_info": {
   "codemirror_mode": {
    "name": "ipython",
    "version": 3
   },
   "file_extension": ".py",
   "mimetype": "text/x-python",
   "name": "python",
   "nbconvert_exporter": "python",
   "pygments_lexer": "ipython3",
   "version": "3.10.8"
  }
 },
 "nbformat": 4,
 "nbformat_minor": 5
}
