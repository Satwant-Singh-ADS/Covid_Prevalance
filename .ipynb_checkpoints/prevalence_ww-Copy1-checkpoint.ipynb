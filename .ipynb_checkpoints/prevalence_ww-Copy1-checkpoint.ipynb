{
 "cells": [
  {
   "cell_type": "code",
   "execution_count": 1,
   "id": "ce9f6fa2",
   "metadata": {},
   "outputs": [],
   "source": [
    "import pandas as pd\n",
    "import requests\n",
    "import datetime\n",
    "\n",
    "sel_url = 'https://raw.githubusercontent.com/biobotanalytics/covid19-wastewater-data/master/wastewater_by_county.csv'\n",
    "ww_data = pd.read_csv(sel_url)\n",
    "\n",
    "abvs = pd.read_csv('us_states_abbr_list.txt', header=None)[0].to_list()\n"
   ]
  },
  {
   "cell_type": "code",
   "execution_count": 58,
   "id": "f9b1bd73",
   "metadata": {},
   "outputs": [],
   "source": [
    "fips_tab = pd.read_csv('reich_fips.txt')\n"
   ]
  },
  {
   "cell_type": "code",
   "execution_count": 59,
   "id": "d9e3d1c6",
   "metadata": {},
   "outputs": [
    {
     "data": {
      "text/html": [
       "<div>\n",
       "<style scoped>\n",
       "    .dataframe tbody tr th:only-of-type {\n",
       "        vertical-align: middle;\n",
       "    }\n",
       "\n",
       "    .dataframe tbody tr th {\n",
       "        vertical-align: top;\n",
       "    }\n",
       "\n",
       "    .dataframe thead th {\n",
       "        text-align: right;\n",
       "    }\n",
       "</style>\n",
       "<table border=\"1\" class=\"dataframe\">\n",
       "  <thead>\n",
       "    <tr style=\"text-align: right;\">\n",
       "      <th></th>\n",
       "      <th>abbreviation</th>\n",
       "      <th>location</th>\n",
       "      <th>location_name</th>\n",
       "      <th>population</th>\n",
       "    </tr>\n",
       "  </thead>\n",
       "  <tbody>\n",
       "    <tr>\n",
       "      <th>0</th>\n",
       "      <td>US</td>\n",
       "      <td>US</td>\n",
       "      <td>US</td>\n",
       "      <td>328728466.0</td>\n",
       "    </tr>\n",
       "    <tr>\n",
       "      <th>1</th>\n",
       "      <td>AL</td>\n",
       "      <td>01</td>\n",
       "      <td>Alabama</td>\n",
       "      <td>4903185.0</td>\n",
       "    </tr>\n",
       "    <tr>\n",
       "      <th>2</th>\n",
       "      <td>AK</td>\n",
       "      <td>02</td>\n",
       "      <td>Alaska</td>\n",
       "      <td>731545.0</td>\n",
       "    </tr>\n",
       "    <tr>\n",
       "      <th>3</th>\n",
       "      <td>AZ</td>\n",
       "      <td>04</td>\n",
       "      <td>Arizona</td>\n",
       "      <td>7278717.0</td>\n",
       "    </tr>\n",
       "    <tr>\n",
       "      <th>4</th>\n",
       "      <td>AR</td>\n",
       "      <td>05</td>\n",
       "      <td>Arkansas</td>\n",
       "      <td>3017804.0</td>\n",
       "    </tr>\n",
       "    <tr>\n",
       "      <th>...</th>\n",
       "      <td>...</td>\n",
       "      <td>...</td>\n",
       "      <td>...</td>\n",
       "      <td>...</td>\n",
       "    </tr>\n",
       "    <tr>\n",
       "      <th>3195</th>\n",
       "      <td>NaN</td>\n",
       "      <td>56037</td>\n",
       "      <td>Sweetwater County</td>\n",
       "      <td>42343.0</td>\n",
       "    </tr>\n",
       "    <tr>\n",
       "      <th>3196</th>\n",
       "      <td>NaN</td>\n",
       "      <td>56039</td>\n",
       "      <td>Teton County</td>\n",
       "      <td>23464.0</td>\n",
       "    </tr>\n",
       "    <tr>\n",
       "      <th>3197</th>\n",
       "      <td>NaN</td>\n",
       "      <td>56041</td>\n",
       "      <td>Uinta County</td>\n",
       "      <td>20226.0</td>\n",
       "    </tr>\n",
       "    <tr>\n",
       "      <th>3198</th>\n",
       "      <td>NaN</td>\n",
       "      <td>56043</td>\n",
       "      <td>Washakie County</td>\n",
       "      <td>7805.0</td>\n",
       "    </tr>\n",
       "    <tr>\n",
       "      <th>3199</th>\n",
       "      <td>NaN</td>\n",
       "      <td>56045</td>\n",
       "      <td>Weston County</td>\n",
       "      <td>6927.0</td>\n",
       "    </tr>\n",
       "  </tbody>\n",
       "</table>\n",
       "<p>3200 rows × 4 columns</p>\n",
       "</div>"
      ],
      "text/plain": [
       "     abbreviation location      location_name   population\n",
       "0              US       US                 US  328728466.0\n",
       "1              AL       01            Alabama    4903185.0\n",
       "2              AK       02             Alaska     731545.0\n",
       "3              AZ       04            Arizona    7278717.0\n",
       "4              AR       05           Arkansas    3017804.0\n",
       "...           ...      ...                ...          ...\n",
       "3195          NaN    56037  Sweetwater County      42343.0\n",
       "3196          NaN    56039       Teton County      23464.0\n",
       "3197          NaN    56041       Uinta County      20226.0\n",
       "3198          NaN    56043    Washakie County       7805.0\n",
       "3199          NaN    56045      Weston County       6927.0\n",
       "\n",
       "[3200 rows x 4 columns]"
      ]
     },
     "execution_count": 59,
     "metadata": {},
     "output_type": "execute_result"
    }
   ],
   "source": [
    "fips_tab"
   ]
  },
  {
   "cell_type": "code",
   "execution_count": 2,
   "id": "33110baa",
   "metadata": {},
   "outputs": [
    {
     "data": {
      "text/plain": [
       "(13150, 7)"
      ]
     },
     "execution_count": 2,
     "metadata": {},
     "output_type": "execute_result"
    }
   ],
   "source": [
    "ww_data.shape"
   ]
  },
  {
   "cell_type": "code",
   "execution_count": 60,
   "id": "9e70768e",
   "metadata": {},
   "outputs": [],
   "source": [
    "def impute_us(x):\n",
    "    if x=='US':\n",
    "        return '0'\n",
    "    else:\n",
    "        return x\n",
    "fips_tab['location'] = fips_tab['location'].apply(impute_us)"
   ]
  },
  {
   "cell_type": "code",
   "execution_count": 5,
   "id": "a34b5e25",
   "metadata": {},
   "outputs": [],
   "source": [
    "ww_data['fipscode'] = ww_data.fipscode.astype(str)"
   ]
  },
  {
   "cell_type": "code",
   "execution_count": 54,
   "id": "2b51ca94",
   "metadata": {},
   "outputs": [],
   "source": [
    "ww_data_fips = ww_data.fipscode.to_list()"
   ]
  },
  {
   "cell_type": "code",
   "execution_count": 73,
   "id": "a46d8588",
   "metadata": {},
   "outputs": [
    {
     "data": {
      "text/plain": [
       "13150"
      ]
     },
     "execution_count": 73,
     "metadata": {},
     "output_type": "execute_result"
    }
   ],
   "source": [
    "len(ww_data_fips)"
   ]
  },
  {
   "cell_type": "code",
   "execution_count": 65,
   "id": "0cf16fff",
   "metadata": {},
   "outputs": [],
   "source": [
    "fips_tab_codes = fips_tab['location'].to_list()"
   ]
  },
  {
   "cell_type": "code",
   "execution_count": 74,
   "id": "553ff50a",
   "metadata": {},
   "outputs": [
    {
     "data": {
      "text/plain": [
       "3200"
      ]
     },
     "execution_count": 74,
     "metadata": {},
     "output_type": "execute_result"
    }
   ],
   "source": [
    "len(fips_tab_codes)"
   ]
  },
  {
   "cell_type": "code",
   "execution_count": 95,
   "id": "cdbae64c",
   "metadata": {},
   "outputs": [
    {
     "data": {
      "text/plain": [
       "0"
      ]
     },
     "execution_count": 95,
     "metadata": {},
     "output_type": "execute_result"
    }
   ],
   "source": [
    "second_grp.index(48321.0)"
   ]
  },
  {
   "cell_type": "code",
   "execution_count": 109,
   "id": "6447cfa7",
   "metadata": {},
   "outputs": [],
   "source": [
    "fips_idx = []\n",
    "second_grp = [float(k) for k in (fips_tab_codes)]\n",
    "for w in range(len(ww_data_fips)):\n",
    "    if float(ww_data_fips[w]) in second_grp:\n",
    "        \n",
    "        fips_idx.append(second_grp.index(float(ww_data_fips[w])))\n",
    "    else:\n",
    "        fips_idx.append(0)\n",
    "        "
   ]
  },
  {
   "cell_type": "code",
   "execution_count": 110,
   "id": "d5352926",
   "metadata": {},
   "outputs": [
    {
     "data": {
      "text/plain": [
       "18783677"
      ]
     },
     "execution_count": 110,
     "metadata": {},
     "output_type": "execute_result"
    }
   ],
   "source": [
    "sum(fips_idx)"
   ]
  },
  {
   "cell_type": "code",
   "execution_count": 111,
   "id": "afb7807e",
   "metadata": {},
   "outputs": [],
   "source": [
    "import numpy as np\n",
    "from datetime import datetime, timedelta\n",
    "xx = ww_data.sampling_week.to_list()\n",
    "\n",
    "whichday = np.zeros(len(xx))\n",
    "for ii in range(len(xx)):\n",
    "    whichday[ii] = int((datetime.strptime(xx[ii], '%Y-%m-%d') - datetime(2020, 1, 23)).days)\n"
   ]
  },
  {
   "cell_type": "code",
   "execution_count": 112,
   "id": "52eeb1b7",
   "metadata": {},
   "outputs": [],
   "source": [
    "from latest_us_data import *\n",
    "get_data()\n",
    "filehandler = open(\"data_4.pkl\", 'rb') \n",
    "#     print(a)\n",
    "data_4 = pickle.load(filehandler)"
   ]
  },
  {
   "cell_type": "code",
   "execution_count": 113,
   "id": "e4333eee",
   "metadata": {},
   "outputs": [],
   "source": [
    "ww_ts = np.zeros((data_4.shape[0],data_4.shape[1]))\n",
    "\n",
    "ww_pres = np.zeros((data_4.shape[0],data_4.shape[1]))"
   ]
  },
  {
   "cell_type": "code",
   "execution_count": 114,
   "id": "55b82642",
   "metadata": {},
   "outputs": [
    {
     "data": {
      "text/html": [
       "<div>\n",
       "<style scoped>\n",
       "    .dataframe tbody tr th:only-of-type {\n",
       "        vertical-align: middle;\n",
       "    }\n",
       "\n",
       "    .dataframe tbody tr th {\n",
       "        vertical-align: top;\n",
       "    }\n",
       "\n",
       "    .dataframe thead th {\n",
       "        text-align: right;\n",
       "    }\n",
       "</style>\n",
       "<table border=\"1\" class=\"dataframe\">\n",
       "  <thead>\n",
       "    <tr style=\"text-align: right;\">\n",
       "      <th></th>\n",
       "      <th>Unnamed: 0</th>\n",
       "      <th>sampling_week</th>\n",
       "      <th>effective_concentration_rolling_average</th>\n",
       "      <th>region</th>\n",
       "      <th>state</th>\n",
       "      <th>name</th>\n",
       "      <th>fipscode</th>\n",
       "    </tr>\n",
       "  </thead>\n",
       "  <tbody>\n",
       "    <tr>\n",
       "      <th>0</th>\n",
       "      <td>0</td>\n",
       "      <td>2020-01-15</td>\n",
       "      <td>0.000000</td>\n",
       "      <td>Northeast</td>\n",
       "      <td>MA</td>\n",
       "      <td>Suffolk County, MA</td>\n",
       "      <td>25025</td>\n",
       "    </tr>\n",
       "    <tr>\n",
       "      <th>1</th>\n",
       "      <td>1</td>\n",
       "      <td>2020-01-22</td>\n",
       "      <td>0.000000</td>\n",
       "      <td>Northeast</td>\n",
       "      <td>MA</td>\n",
       "      <td>Suffolk County, MA</td>\n",
       "      <td>25025</td>\n",
       "    </tr>\n",
       "    <tr>\n",
       "      <th>2</th>\n",
       "      <td>2</td>\n",
       "      <td>2020-01-29</td>\n",
       "      <td>0.000000</td>\n",
       "      <td>Northeast</td>\n",
       "      <td>MA</td>\n",
       "      <td>Suffolk County, MA</td>\n",
       "      <td>25025</td>\n",
       "    </tr>\n",
       "    <tr>\n",
       "      <th>3</th>\n",
       "      <td>3</td>\n",
       "      <td>2020-02-05</td>\n",
       "      <td>0.000000</td>\n",
       "      <td>Northeast</td>\n",
       "      <td>MA</td>\n",
       "      <td>Suffolk County, MA</td>\n",
       "      <td>25025</td>\n",
       "    </tr>\n",
       "    <tr>\n",
       "      <th>4</th>\n",
       "      <td>4</td>\n",
       "      <td>2020-02-12</td>\n",
       "      <td>0.000000</td>\n",
       "      <td>Northeast</td>\n",
       "      <td>MA</td>\n",
       "      <td>Suffolk County, MA</td>\n",
       "      <td>25025</td>\n",
       "    </tr>\n",
       "    <tr>\n",
       "      <th>...</th>\n",
       "      <td>...</td>\n",
       "      <td>...</td>\n",
       "      <td>...</td>\n",
       "      <td>...</td>\n",
       "      <td>...</td>\n",
       "      <td>...</td>\n",
       "      <td>...</td>\n",
       "    </tr>\n",
       "    <tr>\n",
       "      <th>13145</th>\n",
       "      <td>13307</td>\n",
       "      <td>2023-02-01</td>\n",
       "      <td>398.459058</td>\n",
       "      <td>Midwest</td>\n",
       "      <td>IL</td>\n",
       "      <td>Winnebago County, IL</td>\n",
       "      <td>17201</td>\n",
       "    </tr>\n",
       "    <tr>\n",
       "      <th>13146</th>\n",
       "      <td>13308</td>\n",
       "      <td>2023-02-01</td>\n",
       "      <td>646.317996</td>\n",
       "      <td>South</td>\n",
       "      <td>VA</td>\n",
       "      <td>Wise County, VA</td>\n",
       "      <td>51195</td>\n",
       "    </tr>\n",
       "    <tr>\n",
       "      <th>13147</th>\n",
       "      <td>13309</td>\n",
       "      <td>2023-02-01</td>\n",
       "      <td>865.514771</td>\n",
       "      <td>Northeast</td>\n",
       "      <td>MA</td>\n",
       "      <td>Worcester County, MA</td>\n",
       "      <td>25027</td>\n",
       "    </tr>\n",
       "    <tr>\n",
       "      <th>13148</th>\n",
       "      <td>13310</td>\n",
       "      <td>2023-02-01</td>\n",
       "      <td>386.440188</td>\n",
       "      <td>West</td>\n",
       "      <td>AZ</td>\n",
       "      <td>Yavapai County, AZ</td>\n",
       "      <td>4025</td>\n",
       "    </tr>\n",
       "    <tr>\n",
       "      <th>13149</th>\n",
       "      <td>13311</td>\n",
       "      <td>2023-02-01</td>\n",
       "      <td>950.330158</td>\n",
       "      <td>Northeast</td>\n",
       "      <td>ME</td>\n",
       "      <td>York County, ME</td>\n",
       "      <td>23031</td>\n",
       "    </tr>\n",
       "  </tbody>\n",
       "</table>\n",
       "<p>13150 rows × 7 columns</p>\n",
       "</div>"
      ],
      "text/plain": [
       "       Unnamed: 0 sampling_week  effective_concentration_rolling_average  \\\n",
       "0               0    2020-01-15                                 0.000000   \n",
       "1               1    2020-01-22                                 0.000000   \n",
       "2               2    2020-01-29                                 0.000000   \n",
       "3               3    2020-02-05                                 0.000000   \n",
       "4               4    2020-02-12                                 0.000000   \n",
       "...           ...           ...                                      ...   \n",
       "13145       13307    2023-02-01                               398.459058   \n",
       "13146       13308    2023-02-01                               646.317996   \n",
       "13147       13309    2023-02-01                               865.514771   \n",
       "13148       13310    2023-02-01                               386.440188   \n",
       "13149       13311    2023-02-01                               950.330158   \n",
       "\n",
       "          region state                  name fipscode  \n",
       "0      Northeast    MA    Suffolk County, MA    25025  \n",
       "1      Northeast    MA    Suffolk County, MA    25025  \n",
       "2      Northeast    MA    Suffolk County, MA    25025  \n",
       "3      Northeast    MA    Suffolk County, MA    25025  \n",
       "4      Northeast    MA    Suffolk County, MA    25025  \n",
       "...          ...   ...                   ...      ...  \n",
       "13145    Midwest    IL  Winnebago County, IL    17201  \n",
       "13146      South    VA       Wise County, VA    51195  \n",
       "13147  Northeast    MA  Worcester County, MA    25027  \n",
       "13148       West    AZ    Yavapai County, AZ     4025  \n",
       "13149  Northeast    ME       York County, ME    23031  \n",
       "\n",
       "[13150 rows x 7 columns]"
      ]
     },
     "execution_count": 114,
     "metadata": {},
     "output_type": "execute_result"
    }
   ],
   "source": [
    "ww_data"
   ]
  },
  {
   "cell_type": "code",
   "execution_count": 115,
   "id": "262ce505",
   "metadata": {},
   "outputs": [],
   "source": [
    "abvs_idx = [abvs.index(i) for i in ww_data.state if i in abvs]"
   ]
  },
  {
   "cell_type": "code",
   "execution_count": 123,
   "id": "26fc356b",
   "metadata": {},
   "outputs": [],
   "source": [
    "popu = np.loadtxt('us_states_population_data.txt')"
   ]
  },
  {
   "cell_type": "code",
   "execution_count": 125,
   "id": "d22a35cc",
   "metadata": {},
   "outputs": [],
   "source": [
    "for ii in range(len(xx)):\n",
    "    if whichday[ii] < 1 or fips_idx[ii] < 1:\n",
    "        continue\n",
    "#     print(ii)\n",
    "    ww_pres[abvs_idx[ii], int(whichday[ii])] = 1\n",
    "    ww_ts[abvs_idx[ii], int(whichday[ii])] = ww_ts[abvs_idx[ii], int(whichday[ii])] + ww_data.effective_concentration_rolling_average[ii]*fips_tab.population[fips_idx[ii]]/popu[abvs_idx[ii]]\n"
   ]
  },
  {
   "cell_type": "code",
   "execution_count": 127,
   "id": "6fe8ac49",
   "metadata": {},
   "outputs": [
    {
     "data": {
      "text/plain": [
       "(56, 1107)"
      ]
     },
     "execution_count": 127,
     "metadata": {},
     "output_type": "execute_result"
    }
   ],
   "source": [
    "ww_ts.shape"
   ]
  },
  {
   "cell_type": "code",
   "execution_count": 133,
   "id": "287161e5",
   "metadata": {},
   "outputs": [],
   "source": [
    "ww_ts[ww_pres < 1] = np.nan\n",
    "ww_ts[ww_ts <= 0] = np.nan\n",
    "\n",
    "ww_ts1 = pd.DataFrame(ww_ts).interpolate( limit_direction='both', axis=1).to_numpy()\n",
    "ww_tsm = pd.DataFrame(ww_ts1).rolling(14, axis=1).mean().to_numpy()"
   ]
  },
  {
   "cell_type": "code",
   "execution_count": 136,
   "id": "5e7d86f4",
   "metadata": {},
   "outputs": [],
   "source": [
    "data_4_s = data_4\n",
    "data_diff = np.insert(np.diff(data_4_s, axis=1), 0, 0, axis=1)\n",
    "\n",
    "ww_tsw = np.insert(ww_ts[:, 5::7], 0, 0, axis=1)\n",
    "weekly_dat = np.insert(np.diff(ww_tsw, axis=1), 0, 0, axis=1)\n"
   ]
  },
  {
   "cell_type": "code",
   "execution_count": 163,
   "id": "0cb3c62e",
   "metadata": {},
   "outputs": [],
   "source": [
    "import csaps"
   ]
  },
  {
   "cell_type": "code",
   "execution_count": null,
   "id": "ac7cb8ea",
   "metadata": {},
   "outputs": [],
   "source": []
  },
  {
   "cell_type": "code",
   "execution_count": 306,
   "id": "ab381b2a",
   "metadata": {},
   "outputs": [],
   "source": [
    "wlag = 7\n",
    "ww_tsm[ww_ts == 0] = np.nan\n",
    "f = np.empty_like(ww_ts)\n",
    "f[:, wlag:] = ww_ts[:, :-wlag] / data_diff[:, wlag:]\n",
    "f[:, :200] = np.nan\n",
    "f1 = f\n",
    "\n",
    "\n",
    "for jj in range(f1.shape[0]):\n",
    "    xx = np.flatnonzero(~np.isnan(f1[jj,:]))\n",
    "    xx2 = np.flatnonzero(np.isfinite(f1[jj,:]))\n",
    "    xx = np.array(list(set(xx2).intersection(set(xx))))\n",
    "    xx.sort()\n",
    "    \n",
    "    \n",
    "    if (len(xx) > 5) and (sum((xx>200) & (xx<600))) > 2:\n",
    "        yy = f1[jj, xx]\n",
    "        f[jj, 200:] = sp = csaps.CubicSmoothingSpline(xx, yy,smooth = 0.0001)(list(range(200,f.shape[1])))\n",
    "    f[jj,:] = pd.DataFrame(f[jj,:]).interpolate( limit_direction='both', axis=1).to_numpy().ravel()\n",
    "    f[jj,:] = pd.DataFrame(f[jj,:]).interpolate(limit_direction='both', axis=1).to_numpy().ravel()\n"
   ]
  },
  {
   "cell_type": "code",
   "execution_count": 308,
   "id": "78b931ad",
   "metadata": {},
   "outputs": [],
   "source": [
    "f[f<0] = 0\n",
    "f = pd.DataFrame(f).rolling(7,axis=1).mean().to_numpy()\n",
    "ww_adj = pd.DataFrame(data_diff*f).rolling(14,axis=1).mean().to_numpy()"
   ]
  },
  {
   "cell_type": "code",
   "execution_count": 211,
   "id": "75a1a683",
   "metadata": {},
   "outputs": [],
   "source": [
    "from CDC_Sero import *\n",
    "CDC_SERO_Function()\n"
   ]
  },
  {
   "cell_type": "code",
   "execution_count": 312,
   "id": "a81a50db",
   "metadata": {},
   "outputs": [],
   "source": [
    "filehandler = open(\"true_new_infec.pkl\", 'rb') \n",
    "true_new_infec = pickle.load(filehandler)\n"
   ]
  },
  {
   "cell_type": "code",
   "execution_count": 313,
   "id": "1b01c20b",
   "metadata": {},
   "outputs": [],
   "source": [
    "filehandler = open(\"un_array.pkl\", 'rb') \n",
    "un_array = pickle.load(filehandler)\n"
   ]
  },
  {
   "cell_type": "code",
   "execution_count": 314,
   "id": "a01a0afe",
   "metadata": {},
   "outputs": [],
   "source": [
    "true_new_infec[0] = (true_new_infec[0]+abs(true_new_infec[0]))/2\n",
    "true_new_infec[1] = (true_new_infec[1]+abs(true_new_infec[1]))/2\n",
    "true_new_infec[2] = (true_new_infec[2]+abs(true_new_infec[2]))/2\n"
   ]
  },
  {
   "cell_type": "code",
   "execution_count": 328,
   "id": "efed968c",
   "metadata": {},
   "outputs": [],
   "source": [
    "eq_range = range(200,601)\n",
    "nz_idx = ww_adj[:, eq_range]>0.5\n",
    "\n",
    "ww_year1 = np.nansum(ww_adj[:, eq_range]*nz_idx, axis=1)\n",
    "\n",
    "\n",
    "sero_year1 = np.nansum(true_new_infec[0].iloc[:, eq_range]*nz_idx, axis=1)\n"
   ]
  },
  {
   "cell_type": "code",
   "execution_count": 400,
   "id": "ff497f0c",
   "metadata": {},
   "outputs": [],
   "source": [
    "true_new_infec_ww = [0,0,0]\n",
    "b = sero_year1/ww_year1\n",
    "true_new_infec_ww[0] = ww_adj*b.reshape((b.size, 1))\n",
    "\n",
    "\n",
    "true_new_infec_ww[0][np.isnan(true_new_infec_ww[0])] = 0\n",
    "\n",
    "\n",
    "true_new_infec_ww[0] = pd.DataFrame(np.maximum(true_new_infec_ww[0],true_new_infec[0].to_numpy())).rolling(14,axis=1,min_periods=0).mean().to_numpy()\n"
   ]
  },
  {
   "cell_type": "code",
   "execution_count": 403,
   "id": "63405477",
   "metadata": {},
   "outputs": [],
   "source": [
    "eq_range = range(200,601)\n",
    "nz_idx = ww_adj[:, eq_range]>0.5\n",
    "\n",
    "# ww_year2 = np.nansum(ww_adj[:, eq_range]*nz_idx, axis=1)\n",
    "\n",
    "\n",
    "sero_year2 = np.nansum(true_new_infec[1].iloc[:, eq_range]*nz_idx, axis=1)\n",
    "\n",
    "b = sero_year2/ww_year1\n",
    "true_new_infec_ww[1] = ww_adj*b.reshape((b.size, 1))\n",
    "\n",
    "\n",
    "true_new_infec_ww[1][np.isnan(true_new_infec_ww[1])] = 0\n",
    "\n",
    "\n",
    "true_new_infec_ww[1] = pd.DataFrame(np.maximum(true_new_infec_ww[1],true_new_infec[1].to_numpy())).rolling(14,axis=1,min_periods=0).mean().to_numpy()\n"
   ]
  },
  {
   "cell_type": "code",
   "execution_count": 404,
   "id": "a88043e5",
   "metadata": {},
   "outputs": [],
   "source": [
    "eq_range = range(200,601)\n",
    "nz_idx = ww_adj[:, eq_range]>0.5\n",
    "\n",
    "# ww_year2 = np.nansum(ww_adj[:, eq_range]*nz_idx, axis=1)\n",
    "\n",
    "\n",
    "sero_year3 = np.nansum(true_new_infec[2].iloc[:, eq_range]*nz_idx, axis=1)\n",
    "\n",
    "b = sero_year3/ww_year1\n",
    "true_new_infec_ww[2] = ww_adj*b.reshape((b.size, 1))\n",
    "\n",
    "\n",
    "true_new_infec_ww[2][np.isnan(true_new_infec_ww[2])] = 0\n",
    "\n",
    "\n",
    "true_new_infec_ww[2] = pd.DataFrame(np.maximum(true_new_infec_ww[2],true_new_infec[2].to_numpy())).rolling(14,axis=1,min_periods=0).mean().to_numpy()\n"
   ]
  },
  {
   "cell_type": "code",
   "execution_count": 408,
   "id": "08cce032",
   "metadata": {},
   "outputs": [],
   "source": [
    "bad_states = (np.isnan(ww_ts).sum(axis=1)<1) & (np.isnan(true_new_infec[1]).sum(axis=1)<1)\n"
   ]
  },
  {
   "cell_type": "code",
   "execution_count": 417,
   "id": "b0282a97",
   "metadata": {},
   "outputs": [],
   "source": [
    "# true_new_infec_ww[0][bad_states, :] = true_new_infec[0][bad_states, :]\n",
    "# true_new_infec_ww[1][bad_states, :] = true_new_infec[1][bad_states, :]\n",
    "# true_new_infec_ww[2][bad_states, :] = true_new_infec[2][bad_states, :]\n",
    "\n",
    "true_new_infec_ww[0][bad_states, :] = data_diff[bad_states, :]\n",
    "true_new_infec_ww[1][bad_states, :] = data_diff[bad_states, :]\n",
    "true_new_infec_ww[2][bad_states, :] = data_diff[bad_states, :]"
   ]
  },
  {
   "cell_type": "code",
   "execution_count": 419,
   "id": "4f2a3fed",
   "metadata": {},
   "outputs": [],
   "source": [
    "import pickle \n",
    "with open(\"true_new_infec_ww.pkl\", \"wb\") as f:\n",
    "    pickle.dump(true_new_infec_ww, f)\n",
    "with open(\"true_new_infec_final.pkl\", \"wb\") as f:\n",
    "    pickle.dump(true_new_infec, f)\n"
   ]
  },
  {
   "cell_type": "code",
   "execution_count": 420,
   "id": "18b12169",
   "metadata": {},
   "outputs": [
    {
     "name": "stdout",
     "output_type": "stream",
     "text": [
      "Process completed\n"
     ]
    }
   ],
   "source": [
    "print(\"Process completed\")"
   ]
  }
 ],
 "metadata": {
  "kernelspec": {
   "display_name": "Python 3 (ipykernel)",
   "language": "python",
   "name": "python3"
  },
  "language_info": {
   "codemirror_mode": {
    "name": "ipython",
    "version": 3
   },
   "file_extension": ".py",
   "mimetype": "text/x-python",
   "name": "python",
   "nbconvert_exporter": "python",
   "pygments_lexer": "ipython3",
   "version": "3.10.8"
  }
 },
 "nbformat": 4,
 "nbformat_minor": 5
}
